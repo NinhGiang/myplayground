{
  "nbformat": 4,
  "nbformat_minor": 0,
  "metadata": {
    "kernelspec": {
      "display_name": "Python 3",
      "language": "python",
      "name": "python3"
    },
    "language_info": {
      "codemirror_mode": {
        "name": "ipython",
        "version": 3
      },
      "file_extension": ".py",
      "mimetype": "text/x-python",
      "name": "python",
      "nbconvert_exporter": "python",
      "pygments_lexer": "ipython3",
      "version": "3.6.9"
    },
    "varInspector": {
      "cols": {
        "lenName": 16,
        "lenType": 16,
        "lenVar": 40
      },
      "kernels_config": {
        "python": {
          "delete_cmd_postfix": "",
          "delete_cmd_prefix": "del ",
          "library": "var_list.py",
          "varRefreshCmd": "print(var_dic_list())"
        },
        "r": {
          "delete_cmd_postfix": ") ",
          "delete_cmd_prefix": "rm(",
          "library": "var_list.r",
          "varRefreshCmd": "cat(var_dic_list()) "
        }
      },
      "types_to_exclude": [
        "module",
        "function",
        "builtin_function_or_method",
        "instance",
        "_Feature"
      ],
      "window_display": false
    },
    "colab": {
      "name": "numpy2.ipynb",
      "provenance": []
    }
  },
  "cells": [
    {
      "cell_type": "markdown",
      "metadata": {
        "id": "UJ0fbBGeBq8h"
      },
      "source": [
        "<!--NAVIGATION-->\n",
        "\n",
        "\n",
        "<a href=\"https://colab.research.google.com/github/saskeli/x/blob/master/numpy2.ipynb\"><img align=\"left\" src=\"https://colab.research.google.com/assets/colab-badge.svg\" alt=\"Open in Colab\" title=\"Open and Execute in Google Colaboratory\"></a>\n",
        "\n",
        "|                                         -                                         |                                         -                                         |                                         -                                         |\n",
        "|-----------------------------------------------------------------------------------|-----------------------------------------------------------------------------------|-----------------------------------------------------------------------------------|\n",
        "|      [Exercise 1 (column comparison)](<#Exercise-1-(column-comparison&#41;>)      | [Exercise 2 (first half second half)](<#Exercise-2-(first-half-second-half&#41;>) |    [Exercise 3 (most frequent first)](<#Exercise-3-(most-frequent-first&#41;>)    |\n",
        "|           [Exercise 4 (matrix power)](<#Exercise-4-(matrix-power&#41;>)           |            [Exercise 5 (correlation)](<#Exercise-5-(correlation&#41;>)            |          [Exercise 6 (meeting lines)](<#Exercise-6-(meeting-lines&#41;>)          |\n",
        "|         [Exercise 7 (meeting planes)](<#Exercise-7-(meeting-planes&#41;>)         |   [Exercise 8 (almost meeting lines)](<#Exercise-8-(almost-meeting-lines&#41;>)   |                                                                                   |\n",
        "\n"
      ]
    },
    {
      "cell_type": "markdown",
      "metadata": {
        "id": "AJXMh7dpBq8i"
      },
      "source": [
        "# NumPy (continues)"
      ]
    },
    {
      "cell_type": "code",
      "metadata": {
        "ExecuteTime": {
          "end_time": "2020-06-24T19:32:43.481522Z",
          "start_time": "2020-06-24T19:32:43.430537Z"
        },
        "id": "5SeJi4LsBq8j"
      },
      "source": [
        "import numpy as np"
      ],
      "execution_count": null,
      "outputs": []
    },
    {
      "cell_type": "markdown",
      "metadata": {
        "id": "07LXnBTqBq8n"
      },
      "source": [
        "## Comparisons and masking\n",
        "\n",
        "Just like NumPy allows element-wise arithmetic operations between arrays, for example addition of two arrays, it is also possible to compare two arrays element-wise. For example"
      ]
    },
    {
      "cell_type": "code",
      "metadata": {
        "ExecuteTime": {
          "end_time": "2020-06-24T19:32:43.487719Z",
          "start_time": "2020-06-24T19:32:43.483113Z"
        },
        "id": "ML5EUynvBq8p",
        "outputId": "548fa898-bf98-4482-e436-228ff107241e"
      },
      "source": [
        "a=np.array([1,3,4])\n",
        "b=np.array([2,2,7])\n",
        "c = a < b\n",
        "print(c)"
      ],
      "execution_count": null,
      "outputs": [
        {
          "output_type": "stream",
          "text": [
            "[ True False  True]\n"
          ],
          "name": "stdout"
        }
      ]
    },
    {
      "cell_type": "markdown",
      "metadata": {
        "id": "BZobf6daBq8t"
      },
      "source": [
        "Now we can query whether all comparisons resulted `True`, or whether some comparison resulted `True`:"
      ]
    },
    {
      "cell_type": "code",
      "metadata": {
        "ExecuteTime": {
          "end_time": "2020-06-24T19:32:43.494041Z",
          "start_time": "2020-06-24T19:32:43.489943Z"
        },
        "id": "DKsT0NJnBq8u",
        "outputId": "d6e88f98-9350-4663-ced4-7e983faceb26"
      },
      "source": [
        "print(c.all())   # were all True\n",
        "print(c.any())   # was some comparison True"
      ],
      "execution_count": null,
      "outputs": [
        {
          "output_type": "stream",
          "text": [
            "False\n",
            "True\n"
          ],
          "name": "stdout"
        }
      ]
    },
    {
      "cell_type": "markdown",
      "metadata": {
        "id": "kr3LOJZlBq8x"
      },
      "source": [
        "We can also count the number of comparisons that were `True`. This solution relies on the interpretation that `True` corresponds to 1 and `False` corresponds to 0:"
      ]
    },
    {
      "cell_type": "code",
      "metadata": {
        "ExecuteTime": {
          "end_time": "2020-06-24T19:32:43.499653Z",
          "start_time": "2020-06-24T19:32:43.496122Z"
        },
        "id": "V6KA2o_KBq8x",
        "outputId": "9ea811e1-8f36-430f-e5f8-bf33e8be9328"
      },
      "source": [
        "print(np.sum(c))"
      ],
      "execution_count": null,
      "outputs": [
        {
          "output_type": "stream",
          "text": [
            "2\n"
          ],
          "name": "stdout"
        }
      ]
    },
    {
      "cell_type": "markdown",
      "metadata": {
        "id": "i77_mSVTBq81"
      },
      "source": [
        "Because the broadcasting rules apply also to comparison, we can write"
      ]
    },
    {
      "cell_type": "code",
      "metadata": {
        "ExecuteTime": {
          "end_time": "2020-06-24T19:32:43.504769Z",
          "start_time": "2020-06-24T19:32:43.501218Z"
        },
        "id": "Rgg79tOlBq81",
        "outputId": "544ea681-0584-4d5d-e052-58676d99fdde"
      },
      "source": [
        "print(a > 0)"
      ],
      "execution_count": null,
      "outputs": [
        {
          "output_type": "stream",
          "text": [
            "[ True  True  True]\n"
          ],
          "name": "stdout"
        }
      ]
    },
    {
      "cell_type": "markdown",
      "metadata": {
        "id": "xCQf36JpBq83"
      },
      "source": [
        "To try these operations on real data, we download some weather statistics from Helsinki (Kumpula) weather station. More precisely, we will get the daily average temperatures from year 2017. We use the Pandas library, which we will cover later during this course, to load the data."
      ]
    },
    {
      "cell_type": "code",
      "metadata": {
        "ExecuteTime": {
          "end_time": "2020-06-24T19:32:44.000697Z",
          "start_time": "2020-06-24T19:32:43.506381Z"
        },
        "id": "CkUJfhDRBq84"
      },
      "source": [
        "import pandas as pd\n",
        "a=pd.read_csv(\"https://raw.githubusercontent.com/csmastersUH/data_analysis_with_python_2020/master/kumpula-weather-2017.csv\")['Air temperature (degC)'].values"
      ],
      "execution_count": null,
      "outputs": []
    },
    {
      "cell_type": "code",
      "metadata": {
        "ExecuteTime": {
          "end_time": "2020-06-24T19:32:44.013742Z",
          "start_time": "2020-06-24T19:32:44.001833Z"
        },
        "id": "cK18cqS5Bq87",
        "outputId": "a005ec75-badc-4565-ffbd-0427188f1ff4"
      },
      "source": [
        "a"
      ],
      "execution_count": null,
      "outputs": [
        {
          "output_type": "execute_result",
          "data": {
            "text/plain": [
              "array([  0.6,  -3.9,  -6.5, -12.8, -17.8, -17.8,  -3.8,  -0.5,   0.5,\n",
              "         1.7,  -1.6,  -2.8,   1.1,   0.8,  -2.8,  -4.2,  -3.5,   1.1,\n",
              "         1.6,  -0.6,  -1.8,   1. ,   0.1,  -2.2,  -3.8,   1.9,   1.6,\n",
              "         0.8,   0.6,   1. ,   0.2,  -0.6,  -0.8,  -0.2,   0.4,  -2.5,\n",
              "        -7.3, -12.1,  -8.8, -10.1,  -8.3,  -5.4,  -2.7,   1.5,   4.4,\n",
              "         0. ,   0.5,   1.5,   1.9,   2.2,   0.4,  -2.5,  -4.6,  -0.7,\n",
              "        -5.3,  -5.6,  -2. ,  -2.3,   2.1,   1.5,   1.5,   0.9,  -1.8,\n",
              "        -4.2,  -4.2,  -2.9,   0.2,   1.2,   1.4,   2.2,  -0.9,   0.6,\n",
              "         0.6,   3.8,   3.4,   2. ,   1.6,   0.6,   0.2,   1.6,   2.3,\n",
              "         2.5,   0.5,   1.9,   4.8,   6.6,   2.4,   0.4,  -0.4,   0.2,\n",
              "         1.5,   4.3,   3. ,   3.8,   3.3,   4.7,   4.1,   3.3,   3.7,\n",
              "         6. ,   4.3,   1.8,   1.2,  -0.5,  -1.4,  -1.7,   0.6,   0.3,\n",
              "         1.2,   2.5,   5.7,   3.1,   2.9,   3.6,   2.8,   3.2,   4.4,\n",
              "         4.1,   2.3,   2.2,   7.6,   9.4,   9.2,   6.7,  10.1,  11.1,\n",
              "         6.1,   4.4,   1.5,   1.5,   2.9,   5.1,   7.5,   9.8,   9. ,\n",
              "         7.3,   9.4,  11.2,  16.1,  16.9,  14.7,  14.6,  13.3,  12.4,\n",
              "        14.1,  14.1,   9.6,  13.2,  14.1,   9.6,  10.8,   6.5,   6.2,\n",
              "        10. ,   9.9,  10.4,  14.5,  16.4,  12.3,  14. ,  16.3,  16.8,\n",
              "        12.6,  12.6,  14.8,  15.1,  18.4,  19.3,  16.9,  17.8,  12.7,\n",
              "        12.4,  12.2,  10.8,  12.9,  14. ,  13.5,  13.7,  15.3,  16.3,\n",
              "        17.2,  14.1,  16.4,  14.5,  14.1,  14. ,  11.5,  14.7,  16.1,\n",
              "        17.4,  18. ,  16.8,  16.8,  14.7,  15.3,  16.7,  18. ,  15.4,\n",
              "        15. ,  13.7,  14.6,  15.8,  15.6,  16.9,  15.7,  16.1,  17.2,\n",
              "        19. ,  19.1,  17.8,  18.3,  17.8,  18.9,  17.5,  18.2,  16.6,\n",
              "        17.1,  16. ,  15.2,  17.2,  18.3,  18.7,  18.1,  19.6,  17.4,\n",
              "        16.1,  16.4,  17.6,  19. ,  18. ,  18.2,  17.4,  16.2,  14.9,\n",
              "        13.5,  12.9,  11.2,  10.4,  10.7,  12. ,  14.4,  16.8,  17.2,\n",
              "        15.1,  12.9,  12.9,  11.9,  11.4,  10.4,  10.3,  10.6,  13.1,\n",
              "        14.6,  14.6,  14.9,  14.4,  12.9,  12.2,  12.1,   9.9,   8.7,\n",
              "         9. ,   9.2,  12.4,  11.5,  12.8,  12.5,  12.6,  12. ,  12.1,\n",
              "        10.1,   8.9,   8.8,   9.1,   9.2,   8.3,  11.2,   8.8,   7.7,\n",
              "         8.1,   9.3,   8.6,   8.1,   6.9,   6. ,   7.5,   7.2,   8.3,\n",
              "        10.7,   8.5,   8.3,   4.6,   2. ,   0.2,   0.1,   1.3,   0.8,\n",
              "         2.1,   0.3,  -0.3,   3.3,   2.1,   1.2,  -0.4,   0.1,   0.5,\n",
              "         3.2,   8. ,   8.4,   7.5,   3.9,   5.9,   6.7,   7.2,   5.9,\n",
              "         3.1,   2.4,   1.8,   3.1,   3.5,   5.8,   5.9,   4. ,   1.2,\n",
              "         0.9,   1. ,   1.5,   6.1,   4.2,   2.3,   4.6,   3.9,   2.8,\n",
              "         3.1,   0.9,   1.4,   5. ,   1.3,   0. ,  -1.2,  -0.8,   5.2,\n",
              "         4.2,   2. ,   1.4,   1.6,   1.6,   1.6,   1.7,   2.4,   0.1,\n",
              "         2. ,   1. ,   2.6,   2.5,  -0.1,   1.2,  -0.3,   0.3,   1.9,\n",
              "         3.8,   2.8,   3.8,   2.5,   1.6])"
            ]
          },
          "metadata": {
            "tags": []
          },
          "execution_count": 7
        }
      ]
    },
    {
      "cell_type": "code",
      "metadata": {
        "ExecuteTime": {
          "end_time": "2020-06-24T19:32:44.017899Z",
          "start_time": "2020-06-24T19:32:44.015333Z"
        },
        "id": "rL-fJqdJBq89",
        "outputId": "9f9a2025-7714-4877-e6cc-82498f9b0495"
      },
      "source": [
        "print(\"Number of days with the temperature below zero\", np.sum(a < 0))"
      ],
      "execution_count": null,
      "outputs": [
        {
          "output_type": "stream",
          "text": [
            "Number of days with the temperature below zero 49\n"
          ],
          "name": "stdout"
        }
      ]
    },
    {
      "cell_type": "markdown",
      "metadata": {
        "id": "_Y7_OwmjBq8_"
      },
      "source": [
        "In core Python we can combine truth values using the `and`, `or`, and `not` keywords. For boolean array however we have to use the elementwise operators `&`, `|`, and `~`, respectively. An example of these:"
      ]
    },
    {
      "cell_type": "code",
      "metadata": {
        "ExecuteTime": {
          "end_time": "2020-06-24T19:32:44.022602Z",
          "start_time": "2020-06-24T19:32:44.019356Z"
        },
        "id": "tLAlHE7HBq8_",
        "outputId": "48591c25-a8e0-4e44-ed78-5289edd427df"
      },
      "source": [
        "np.sum((0 < a) & (a < 10))     # Temperature is greater than 0 and less that 10 "
      ],
      "execution_count": null,
      "outputs": [
        {
          "output_type": "execute_result",
          "data": {
            "text/plain": [
              "185"
            ]
          },
          "metadata": {
            "tags": []
          },
          "execution_count": 9
        }
      ]
    },
    {
      "cell_type": "markdown",
      "metadata": {
        "id": "k_7Hb-dxBq9B"
      },
      "source": [
        "Note that we had to use parentheses around the comparisons, because the precedence of the `&` is higher than that of `<`, and so it would have been performed before the comparisons."
      ]
    },
    {
      "cell_type": "markdown",
      "metadata": {
        "id": "pP-rdAVnBq9C"
      },
      "source": [
        "Another use of boolean arrays is that they can be used to select a subset of elements. For example"
      ]
    },
    {
      "cell_type": "code",
      "metadata": {
        "ExecuteTime": {
          "end_time": "2020-06-24T19:32:44.031278Z",
          "start_time": "2020-06-24T19:32:44.023840Z"
        },
        "id": "tEEwBWiABq9C",
        "outputId": "b633f5ff-8be5-428b-e92d-fbfcb4300ef7"
      },
      "source": [
        "c = a > 0\n",
        "print(c[:10])    # print only the first ten elements\n",
        "print(a[c])      # Select only the positive temperatures "
      ],
      "execution_count": null,
      "outputs": [
        {
          "output_type": "stream",
          "text": [
            "[ True False False False False False False False  True  True]\n",
            "[  0.6   0.5   1.7   1.1   0.8   1.1   1.6   1.    0.1   1.9   1.6   0.8\n",
            "   0.6   1.    0.2   0.4   1.5   4.4   0.5   1.5   1.9   2.2   0.4   2.1\n",
            "   1.5   1.5   0.9   0.2   1.2   1.4   2.2   0.6   0.6   3.8   3.4   2.\n",
            "   1.6   0.6   0.2   1.6   2.3   2.5   0.5   1.9   4.8   6.6   2.4   0.4\n",
            "   0.2   1.5   4.3   3.    3.8   3.3   4.7   4.1   3.3   3.7   6.    4.3\n",
            "   1.8   1.2   0.6   0.3   1.2   2.5   5.7   3.1   2.9   3.6   2.8   3.2\n",
            "   4.4   4.1   2.3   2.2   7.6   9.4   9.2   6.7  10.1  11.1   6.1   4.4\n",
            "   1.5   1.5   2.9   5.1   7.5   9.8   9.    7.3   9.4  11.2  16.1  16.9\n",
            "  14.7  14.6  13.3  12.4  14.1  14.1   9.6  13.2  14.1   9.6  10.8   6.5\n",
            "   6.2  10.    9.9  10.4  14.5  16.4  12.3  14.   16.3  16.8  12.6  12.6\n",
            "  14.8  15.1  18.4  19.3  16.9  17.8  12.7  12.4  12.2  10.8  12.9  14.\n",
            "  13.5  13.7  15.3  16.3  17.2  14.1  16.4  14.5  14.1  14.   11.5  14.7\n",
            "  16.1  17.4  18.   16.8  16.8  14.7  15.3  16.7  18.   15.4  15.   13.7\n",
            "  14.6  15.8  15.6  16.9  15.7  16.1  17.2  19.   19.1  17.8  18.3  17.8\n",
            "  18.9  17.5  18.2  16.6  17.1  16.   15.2  17.2  18.3  18.7  18.1  19.6\n",
            "  17.4  16.1  16.4  17.6  19.   18.   18.2  17.4  16.2  14.9  13.5  12.9\n",
            "  11.2  10.4  10.7  12.   14.4  16.8  17.2  15.1  12.9  12.9  11.9  11.4\n",
            "  10.4  10.3  10.6  13.1  14.6  14.6  14.9  14.4  12.9  12.2  12.1   9.9\n",
            "   8.7   9.    9.2  12.4  11.5  12.8  12.5  12.6  12.   12.1  10.1   8.9\n",
            "   8.8   9.1   9.2   8.3  11.2   8.8   7.7   8.1   9.3   8.6   8.1   6.9\n",
            "   6.    7.5   7.2   8.3  10.7   8.5   8.3   4.6   2.    0.2   0.1   1.3\n",
            "   0.8   2.1   0.3   3.3   2.1   1.2   0.1   0.5   3.2   8.    8.4   7.5\n",
            "   3.9   5.9   6.7   7.2   5.9   3.1   2.4   1.8   3.1   3.5   5.8   5.9\n",
            "   4.    1.2   0.9   1.    1.5   6.1   4.2   2.3   4.6   3.9   2.8   3.1\n",
            "   0.9   1.4   5.    1.3   5.2   4.2   2.    1.4   1.6   1.6   1.6   1.7\n",
            "   2.4   0.1   2.    1.    2.6   2.5   1.2   0.3   1.9   3.8   2.8   3.8\n",
            "   2.5   1.6]\n"
          ],
          "name": "stdout"
        }
      ]
    },
    {
      "cell_type": "markdown",
      "metadata": {
        "id": "S6K165vJBq9E"
      },
      "source": [
        "This operation is called *masking*. It can also be used to assign a new value. For example the following zeroes out the  negative temperatures:"
      ]
    },
    {
      "cell_type": "code",
      "metadata": {
        "ExecuteTime": {
          "end_time": "2020-06-24T19:32:44.040388Z",
          "start_time": "2020-06-24T19:32:44.032453Z"
        },
        "id": "f8p_YRRBBq9F",
        "outputId": "eacdb53e-ce2a-48f2-dd5e-642a574e91a2"
      },
      "source": [
        "a[~c] = 0\n",
        "print(a)"
      ],
      "execution_count": null,
      "outputs": [
        {
          "output_type": "stream",
          "text": [
            "[  0.6   0.    0.    0.    0.    0.    0.    0.    0.5   1.7   0.    0.\n",
            "   1.1   0.8   0.    0.    0.    1.1   1.6   0.    0.    1.    0.1   0.\n",
            "   0.    1.9   1.6   0.8   0.6   1.    0.2   0.    0.    0.    0.4   0.\n",
            "   0.    0.    0.    0.    0.    0.    0.    1.5   4.4   0.    0.5   1.5\n",
            "   1.9   2.2   0.4   0.    0.    0.    0.    0.    0.    0.    2.1   1.5\n",
            "   1.5   0.9   0.    0.    0.    0.    0.2   1.2   1.4   2.2   0.    0.6\n",
            "   0.6   3.8   3.4   2.    1.6   0.6   0.2   1.6   2.3   2.5   0.5   1.9\n",
            "   4.8   6.6   2.4   0.4   0.    0.2   1.5   4.3   3.    3.8   3.3   4.7\n",
            "   4.1   3.3   3.7   6.    4.3   1.8   1.2   0.    0.    0.    0.6   0.3\n",
            "   1.2   2.5   5.7   3.1   2.9   3.6   2.8   3.2   4.4   4.1   2.3   2.2\n",
            "   7.6   9.4   9.2   6.7  10.1  11.1   6.1   4.4   1.5   1.5   2.9   5.1\n",
            "   7.5   9.8   9.    7.3   9.4  11.2  16.1  16.9  14.7  14.6  13.3  12.4\n",
            "  14.1  14.1   9.6  13.2  14.1   9.6  10.8   6.5   6.2  10.    9.9  10.4\n",
            "  14.5  16.4  12.3  14.   16.3  16.8  12.6  12.6  14.8  15.1  18.4  19.3\n",
            "  16.9  17.8  12.7  12.4  12.2  10.8  12.9  14.   13.5  13.7  15.3  16.3\n",
            "  17.2  14.1  16.4  14.5  14.1  14.   11.5  14.7  16.1  17.4  18.   16.8\n",
            "  16.8  14.7  15.3  16.7  18.   15.4  15.   13.7  14.6  15.8  15.6  16.9\n",
            "  15.7  16.1  17.2  19.   19.1  17.8  18.3  17.8  18.9  17.5  18.2  16.6\n",
            "  17.1  16.   15.2  17.2  18.3  18.7  18.1  19.6  17.4  16.1  16.4  17.6\n",
            "  19.   18.   18.2  17.4  16.2  14.9  13.5  12.9  11.2  10.4  10.7  12.\n",
            "  14.4  16.8  17.2  15.1  12.9  12.9  11.9  11.4  10.4  10.3  10.6  13.1\n",
            "  14.6  14.6  14.9  14.4  12.9  12.2  12.1   9.9   8.7   9.    9.2  12.4\n",
            "  11.5  12.8  12.5  12.6  12.   12.1  10.1   8.9   8.8   9.1   9.2   8.3\n",
            "  11.2   8.8   7.7   8.1   9.3   8.6   8.1   6.9   6.    7.5   7.2   8.3\n",
            "  10.7   8.5   8.3   4.6   2.    0.2   0.1   1.3   0.8   2.1   0.3   0.\n",
            "   3.3   2.1   1.2   0.    0.1   0.5   3.2   8.    8.4   7.5   3.9   5.9\n",
            "   6.7   7.2   5.9   3.1   2.4   1.8   3.1   3.5   5.8   5.9   4.    1.2\n",
            "   0.9   1.    1.5   6.1   4.2   2.3   4.6   3.9   2.8   3.1   0.9   1.4\n",
            "   5.    1.3   0.    0.    0.    5.2   4.2   2.    1.4   1.6   1.6   1.6\n",
            "   1.7   2.4   0.1   2.    1.    2.6   2.5   0.    1.2   0.    0.3   1.9\n",
            "   3.8   2.8   3.8   2.5   1.6]\n"
          ],
          "name": "stdout"
        }
      ]
    },
    {
      "cell_type": "markdown",
      "metadata": {
        "id": "-UlFbEKHBq9H"
      },
      "source": [
        "Compare this result with the original array `a` to make sure you understand what's going on!"
      ]
    },
    {
      "cell_type": "markdown",
      "metadata": {
        "id": "oZWMEpfBBq9I"
      },
      "source": [
        "#### <div class=\"alert alert-info\">Exercise 1 (column comparison)</div>\n",
        "\n",
        "Write function `column_comparison` that gets a two dimensional array as parameter. The function should return a new array containing those rows from the input that have the value in the second column larger than in the second last column. You may assume that the input contains at least two columns. Don't use loops, but instead vectorized operations. Try out your function in the main function.\n",
        "\n",
        "For array\n",
        "\n",
        "```\n",
        " [[8 9 3 8 8]\n",
        " [0 5 3 9 9]\n",
        " [5 7 6 0 4]\n",
        " [7 8 1 6 2]\n",
        " [2 1 3 5 8]]\n",
        "```\n",
        "the result would be\n",
        "```\n",
        " [[8 9 3 8 8]\n",
        " [5 7 6 0 4]\n",
        " [7 8 1 6 2]]\n",
        "```\n",
        "<hr/>"
      ]
    },
    {
      "cell_type": "markdown",
      "metadata": {
        "id": "0rwF4CCtBq9I"
      },
      "source": [
        "#### <div class=\"alert alert-info\">Exercise 2 (first half second half)</div>\n",
        "\n",
        "Write function `first_half_second_half` that gets a two dimensional array of shape `(n,2*m)` as a parameter. The input array has `2*m` columns. The output from the function should be a matrix with those rows from the input that have the sum of the first `m` elements larger than the sum of the last `m` elements on the row. Your solution should call the `np.sum` function or the corresponding method exactly twice.\n",
        "\n",
        "Example of usage:\n",
        "```python\n",
        "a = np.array([[1, 3, 4, 2],\n",
        "              [2, 2, 1, 2]])\n",
        "first_half_second_half(a)\n",
        "array([[2, 2, 1, 2]])\n",
        "```\n",
        "<hr/>"
      ]
    },
    {
      "cell_type": "markdown",
      "metadata": {
        "id": "n90C_ZjRBq9J"
      },
      "source": [
        "## Fancy indexing\n",
        "\n",
        "Using indexing we can get a single elements from an array. If we wanted multiple (not necessarily contiguous) elements, we would have to index several times:"
      ]
    },
    {
      "cell_type": "code",
      "metadata": {
        "ExecuteTime": {
          "end_time": "2020-06-24T19:32:44.045675Z",
          "start_time": "2020-06-24T19:32:44.041666Z"
        },
        "id": "W5uH_MCTBq9J",
        "outputId": "a4813dc9-f578-4cac-92b0-c49916391e8b"
      },
      "source": [
        "np.random.seed(0)\n",
        "a=np.random.randint(0, 20,20)\n",
        "a2=np.array([a[2], a[5], a[7]])\n",
        "print(a)\n",
        "print(a2)"
      ],
      "execution_count": null,
      "outputs": [
        {
          "output_type": "stream",
          "text": [
            "[12 15  0  3  3  7  9 19 18  4  6 12  1  6  7 14 17  5 13  8]\n",
            "[ 0  7 19]\n"
          ],
          "name": "stdout"
        }
      ]
    },
    {
      "cell_type": "markdown",
      "metadata": {
        "id": "6hxm4G3fBq9L"
      },
      "source": [
        "That's quite verbose. *Fancy indexing* provides a concise syntax for accessing multiple elements:"
      ]
    },
    {
      "cell_type": "code",
      "metadata": {
        "ExecuteTime": {
          "end_time": "2020-06-24T19:32:44.050179Z",
          "start_time": "2020-06-24T19:32:44.047034Z"
        },
        "id": "kOZaA3ryBq9L",
        "outputId": "d5bbafe6-f8b9-4429-fe8c-83b02cb36990"
      },
      "source": [
        "idx=[2,5,7]           # List of indices\n",
        "print(a[idx])         # In fancy indexing in place of a single index, we can provide a list of indices\n",
        "print(a[[2,5,7]])     # Or directly"
      ],
      "execution_count": null,
      "outputs": [
        {
          "output_type": "stream",
          "text": [
            "[ 0  7 19]\n",
            "[ 0  7 19]\n"
          ],
          "name": "stdout"
        }
      ]
    },
    {
      "cell_type": "markdown",
      "metadata": {
        "id": "6jU23MA5Bq9N"
      },
      "source": [
        "We can also assign to multiple elements through fancy indexing:"
      ]
    },
    {
      "cell_type": "code",
      "metadata": {
        "ExecuteTime": {
          "end_time": "2020-06-24T19:32:44.053941Z",
          "start_time": "2020-06-24T19:32:44.051521Z"
        },
        "id": "KMGMFJujBq9N",
        "outputId": "2c9d58bc-f84d-4c9f-bc11-27a46014e0b2"
      },
      "source": [
        "a[idx] = -1\n",
        "print(a)"
      ],
      "execution_count": null,
      "outputs": [
        {
          "output_type": "stream",
          "text": [
            "[12 15 -1  3  3 -1  9 -1 18  4  6 12  1  6  7 14 17  5 13  8]\n"
          ],
          "name": "stdout"
        }
      ]
    },
    {
      "cell_type": "markdown",
      "metadata": {
        "id": "rHoiLjWqBq9P"
      },
      "source": [
        "Fancy indexing works also for higher dimensional arrays:"
      ]
    },
    {
      "cell_type": "code",
      "metadata": {
        "ExecuteTime": {
          "end_time": "2020-06-24T19:32:44.058432Z",
          "start_time": "2020-06-24T19:32:44.055042Z"
        },
        "id": "tXAnUL44Bq9P",
        "outputId": "0c7da9cd-33d2-4c21-9ae3-06be31ae4214"
      },
      "source": [
        "b=np.arange(16).reshape(4,4)\n",
        "print(b)\n",
        "row=np.array([0,2])\n",
        "col=np.array([1,3])\n",
        "print(b[row, col])"
      ],
      "execution_count": null,
      "outputs": [
        {
          "output_type": "stream",
          "text": [
            "[[ 0  1  2  3]\n",
            " [ 4  5  6  7]\n",
            " [ 8  9 10 11]\n",
            " [12 13 14 15]]\n",
            "[ 1 11]\n"
          ],
          "name": "stdout"
        }
      ]
    },
    {
      "cell_type": "markdown",
      "metadata": {
        "id": "LTXUiPB_Bq9R"
      },
      "source": [
        "Note that the result array was one dimensional! The shape of the result array is defined by the shape of the index arrays, not by the shape of the original array. The next example will demonstrate this."
      ]
    },
    {
      "cell_type": "code",
      "metadata": {
        "ExecuteTime": {
          "end_time": "2020-06-24T19:32:44.063229Z",
          "start_time": "2020-06-24T19:32:44.059536Z"
        },
        "id": "OwBWpzWcBq9R",
        "outputId": "c470b183-6626-439f-9026-9d8330638ccf"
      },
      "source": [
        "row2=np.array([[0, 0], [2,2]])\n",
        "col2=np.array([[1,3], [1,3]])\n",
        "print(row2)\n",
        "print(col2)\n",
        "print(b[row2, col2])"
      ],
      "execution_count": null,
      "outputs": [
        {
          "output_type": "stream",
          "text": [
            "[[0 0]\n",
            " [2 2]]\n",
            "[[1 3]\n",
            " [1 3]]\n",
            "[[ 1  3]\n",
            " [ 9 11]]\n"
          ],
          "name": "stdout"
        }
      ]
    },
    {
      "cell_type": "markdown",
      "metadata": {
        "id": "fQCW1NVwBq9T"
      },
      "source": [
        "Both index arrays, row and col, had shape (2,2), so also the result was of shape (2,2). However, this form has some repetition in the indices. But we can rely that the broadcasting rules will enable us to avoid the repetition:"
      ]
    },
    {
      "cell_type": "code",
      "metadata": {
        "ExecuteTime": {
          "end_time": "2020-06-24T19:32:44.067544Z",
          "start_time": "2020-06-24T19:32:44.064308Z"
        },
        "id": "iQdVLDP5Bq9U",
        "outputId": "dd850e1e-6d98-4daa-86e4-f49ec3ca658a"
      },
      "source": [
        "row2=row.reshape(2,1)   # has shape (2, 1)\n",
        "col2=col.reshape(1,2)   # has shape (1, 2)\n",
        "print(row2)\n",
        "print(col2)\n",
        "print(b[row2, col2])    # the index arrays will be broadcasted here to shape (2,2)"
      ],
      "execution_count": null,
      "outputs": [
        {
          "output_type": "stream",
          "text": [
            "[[0]\n",
            " [2]]\n",
            "[[1 3]]\n",
            "[[ 1  3]\n",
            " [ 9 11]]\n"
          ],
          "name": "stdout"
        }
      ]
    },
    {
      "cell_type": "markdown",
      "metadata": {
        "id": "mkNl47HJBq9W"
      },
      "source": [
        "One can also combine normal indexing, slicing and fancy indexing:"
      ]
    },
    {
      "cell_type": "code",
      "metadata": {
        "ExecuteTime": {
          "end_time": "2020-06-24T19:32:44.071355Z",
          "start_time": "2020-06-24T19:32:44.068605Z"
        },
        "id": "GqUaQbE9Bq9W",
        "outputId": "18cd4922-09e4-4d14-f6bd-bf440a4199f2"
      },
      "source": [
        "b[:,[0,2]]"
      ],
      "execution_count": null,
      "outputs": [
        {
          "output_type": "execute_result",
          "data": {
            "text/plain": [
              "array([[ 0,  2],\n",
              "       [ 4,  6],\n",
              "       [ 8, 10],\n",
              "       [12, 14]])"
            ]
          },
          "metadata": {
            "tags": []
          },
          "execution_count": 18
        }
      ]
    },
    {
      "cell_type": "markdown",
      "metadata": {
        "id": "02oMv5CVBq9Z"
      },
      "source": [
        "## Sorting arrays\n",
        "\n"
      ]
    },
    {
      "cell_type": "code",
      "metadata": {
        "ExecuteTime": {
          "end_time": "2020-06-24T19:32:44.075326Z",
          "start_time": "2020-06-24T19:32:44.072456Z"
        },
        "id": "zhLX_u48Bq9a",
        "outputId": "cafe4963-9d7c-43f6-de9a-efbcc85d8069"
      },
      "source": [
        "a=np.array([2,1,4,3,5])\n",
        "print(np.sort(a))          # Does not modify the argument\n",
        "print(a)"
      ],
      "execution_count": null,
      "outputs": [
        {
          "output_type": "stream",
          "text": [
            "[1 2 3 4 5]\n",
            "[2 1 4 3 5]\n"
          ],
          "name": "stdout"
        }
      ]
    },
    {
      "cell_type": "code",
      "metadata": {
        "ExecuteTime": {
          "end_time": "2020-06-24T19:32:44.078579Z",
          "start_time": "2020-06-24T19:32:44.076415Z"
        },
        "id": "53o71vNRBq9c",
        "outputId": "7310f1b6-4c0f-472b-994b-d953e0f98569"
      },
      "source": [
        "a.sort()            # Modifies the argument\n",
        "print(a)"
      ],
      "execution_count": null,
      "outputs": [
        {
          "output_type": "stream",
          "text": [
            "[1 2 3 4 5]\n"
          ],
          "name": "stdout"
        }
      ]
    },
    {
      "cell_type": "code",
      "metadata": {
        "ExecuteTime": {
          "end_time": "2020-06-24T19:32:44.082324Z",
          "start_time": "2020-06-24T19:32:44.079661Z"
        },
        "id": "eWcLFigzBq9e",
        "outputId": "f79c8ecb-da10-4be9-c3a3-a86e1a81ce6a"
      },
      "source": [
        "b=np.random.randint(0,10, (4,4))\n",
        "print(b)"
      ],
      "execution_count": null,
      "outputs": [
        {
          "output_type": "stream",
          "text": [
            "[[9 4 3 0]\n",
            " [3 5 0 2]\n",
            " [3 8 1 3]\n",
            " [3 3 7 0]]\n"
          ],
          "name": "stdout"
        }
      ]
    },
    {
      "cell_type": "code",
      "metadata": {
        "ExecuteTime": {
          "end_time": "2020-06-24T19:32:44.087257Z",
          "start_time": "2020-06-24T19:32:44.083693Z"
        },
        "id": "U6g2dyoFBq9h",
        "outputId": "5efdbb3a-5b94-4c0d-f385-4f607f45d787"
      },
      "source": [
        "np.sort(b, axis=0)           # sort each column"
      ],
      "execution_count": null,
      "outputs": [
        {
          "output_type": "execute_result",
          "data": {
            "text/plain": [
              "array([[3, 3, 0, 0],\n",
              "       [3, 4, 1, 0],\n",
              "       [3, 5, 3, 2],\n",
              "       [9, 8, 7, 3]])"
            ]
          },
          "metadata": {
            "tags": []
          },
          "execution_count": 22
        }
      ]
    },
    {
      "cell_type": "code",
      "metadata": {
        "ExecuteTime": {
          "end_time": "2020-06-24T19:32:44.094323Z",
          "start_time": "2020-06-24T19:32:44.091419Z"
        },
        "id": "1of-UauiBq9j",
        "outputId": "802b8068-505e-4bce-ea4e-b3e6aeae2103"
      },
      "source": [
        "np.sort(b, axis=1)           # Sort each row"
      ],
      "execution_count": null,
      "outputs": [
        {
          "output_type": "execute_result",
          "data": {
            "text/plain": [
              "array([[0, 3, 4, 9],\n",
              "       [0, 2, 3, 5],\n",
              "       [1, 3, 3, 8],\n",
              "       [0, 3, 3, 7]])"
            ]
          },
          "metadata": {
            "tags": []
          },
          "execution_count": 23
        }
      ]
    },
    {
      "cell_type": "markdown",
      "metadata": {
        "id": "232sET-4Bq9l"
      },
      "source": [
        "Note that each row or column is sorted independently.\n",
        "\n",
        "A related operation is the `argsort` function. Which doesn't sort the elements, but returns the indices of the sorted elements. An example will demonstrate this:"
      ]
    },
    {
      "cell_type": "code",
      "metadata": {
        "ExecuteTime": {
          "end_time": "2020-06-24T19:32:44.099053Z",
          "start_time": "2020-06-24T19:32:44.096035Z"
        },
        "id": "-NBb9pNvBq9l",
        "outputId": "58e53bf9-2897-4e62-e088-9f290cf4b3a5"
      },
      "source": [
        "a=np.array([23,12,47,35,59])\n",
        "print(\"Array a:\", a)\n",
        "idx = np.argsort(a)\n",
        "print(\"Indices:\", idx)"
      ],
      "execution_count": null,
      "outputs": [
        {
          "output_type": "stream",
          "text": [
            "Array a: [23 12 47 35 59]\n",
            "Indices: [1 0 3 2 4]\n"
          ],
          "name": "stdout"
        }
      ]
    },
    {
      "cell_type": "markdown",
      "metadata": {
        "id": "OKhHE-RoBq9o"
      },
      "source": [
        "These indices say that the smallest element of the array is in position 1 of `a`, second smallest elements is in position 0 of `a`, third smallest is in position 3, and so on. We can verify that these indices will indeed order the elements using fancy indexing:"
      ]
    },
    {
      "cell_type": "code",
      "metadata": {
        "ExecuteTime": {
          "end_time": "2020-06-24T19:32:44.103105Z",
          "start_time": "2020-06-24T19:32:44.100115Z"
        },
        "id": "y5J7bCEwBq9o",
        "outputId": "72393a07-e1bf-4f87-a627-28cbe4a56135"
      },
      "source": [
        "print(a[idx])"
      ],
      "execution_count": null,
      "outputs": [
        {
          "output_type": "stream",
          "text": [
            "[12 23 35 47 59]\n"
          ],
          "name": "stdout"
        }
      ]
    },
    {
      "cell_type": "markdown",
      "metadata": {
        "id": "lDe3Ip_aBq9q"
      },
      "source": [
        "#### <div class=\"alert alert-info\">Exercise 3 (most frequent first)</div>\n",
        "\n",
        "**<span style=\"color:red\">Note:</span>** This exercise is fairly difficult. Feel free to skip if you get stuck.\n",
        "\n",
        "Write function `most_frequent_first` that gets a two dimensional array and an index `c` of a column as parameters. The function should then return the array whose rows are sorted based on column `c`, in the following way. Rows are ordered so that those rows with the most frequent element in column `c` come first, then come the rows with the second most frequent element in column `c`, and so on. Therefore, the values outside column `c` don't affect the ordering in any way.\n",
        "\n",
        "Example of usage:\n",
        "```\n",
        "a:\n",
        " [[5 0 3 3 7 9 3 5 2 4]\n",
        " [7 6 8 8 1 6 7 7 8 1]\n",
        " [5 9 8 9 4 3 0 3 5 0]\n",
        " [2 3 8 1 3 3 3 7 0 1]\n",
        " [9 9 0 4 7 3 2 7 2 0]\n",
        " [0 4 5 5 6 8 4 1 4 9]\n",
        " [8 1 1 7 9 9 3 6 7 2]\n",
        " [0 3 5 9 4 4 6 4 4 3]\n",
        " [4 4 8 4 3 7 5 5 0 1]\n",
        " [5 9 3 0 5 0 1 2 4 2]]\n",
        "print(most_frequent_first(a, -1))\n",
        " [[4 4 8 4 3 7 5 5 0 1]\n",
        " [2 3 8 1 3 3 3 7 0 1]\n",
        " [7 6 8 8 1 6 7 7 8 1]\n",
        " [5 9 3 0 5 0 1 2 4 2]\n",
        " [8 1 1 7 9 9 3 6 7 2]\n",
        " [9 9 0 4 7 3 2 7 2 0]\n",
        " [5 9 8 9 4 3 0 3 5 0]\n",
        " [0 3 5 9 4 4 6 4 4 3]\n",
        " [0 4 5 5 6 8 4 1 4 9]\n",
        " [5 0 3 3 7 9 3 5 2 4]]\n",
        "```\n",
        "\n",
        "If we look at the last column, we see that the number 1 appears three times, then both numbers 2 and 0 appear twice, and lastly numbers 3, 9, and 4 appear only once. Note that, for example, among those rows that contain in column `c` a number that appear twice in column `c` the order can be arbitrary.\n",
        "\n",
        "Hint: the function `np.unique` may be useful.\n",
        "\n",
        "<hr/>"
      ]
    },
    {
      "cell_type": "markdown",
      "metadata": {
        "id": "9fHy6NJrBq9r"
      },
      "source": [
        "## Matrix operations\n",
        "\n",
        "The `*` operator in NumPy corresponds to the element-wise product of two arrays. However, very often we would like to use the *matrix multiplication*. As a reminder, if $a$ and $b$ are two matrices with shapes $n \\times k$ and $k \\times m$ respectively, then the matrix product of $a$ and $b$ is the matrix $c$ with shape $n \\times m$, where $c_{ij} = \\sum_{h=1}^k a_{ih} b_{hj}$ for $1 \\le i \\le n$ and $1 \\le j \\le m$. In NumPy we can compute the matrix product using the `np.matmul` function or the `@` operator. An example of this:"
      ]
    },
    {
      "cell_type": "code",
      "metadata": {
        "ExecuteTime": {
          "end_time": "2020-06-24T19:32:44.109695Z",
          "start_time": "2020-06-24T19:32:44.104605Z"
        },
        "id": "pMfZS352Bq9r",
        "outputId": "4ab5e460-1ed4-4a5f-cfbe-7ce292e300b2"
      },
      "source": [
        "np.random.seed(0)\n",
        "a=np.random.randint(0,10, (3,2))\n",
        "b=np.random.randint(0,10, (2,4))\n",
        "print(a)\n",
        "print(b)"
      ],
      "execution_count": null,
      "outputs": [
        {
          "output_type": "stream",
          "text": [
            "[[5 0]\n",
            " [3 3]\n",
            " [7 9]]\n",
            "[[3 5 2 4]\n",
            " [7 6 8 8]]\n"
          ],
          "name": "stdout"
        }
      ]
    },
    {
      "cell_type": "code",
      "metadata": {
        "ExecuteTime": {
          "end_time": "2020-06-24T19:32:44.114856Z",
          "start_time": "2020-06-24T19:32:44.111931Z"
        },
        "id": "vYImT3sWBq9u"
      },
      "source": [
        "def info(name, a):\n",
        "    print(f\"{name} has dim {a.ndim}, shape {a.shape}, size {a.size}, and dtype {a.dtype}:\")\n",
        "    print(a)"
      ],
      "execution_count": null,
      "outputs": []
    },
    {
      "cell_type": "code",
      "metadata": {
        "ExecuteTime": {
          "end_time": "2020-06-24T19:32:44.118476Z",
          "start_time": "2020-06-24T19:32:44.116079Z"
        },
        "id": "hUtlcg6dBq9v",
        "outputId": "0e5b0403-0368-42ad-daee-8a59c64961ff"
      },
      "source": [
        "c=np.matmul(a,b)\n",
        "info(\"c\", c)"
      ],
      "execution_count": null,
      "outputs": [
        {
          "output_type": "stream",
          "text": [
            "c has dim 2, shape (3, 4), size 12, and dtype int64:\n",
            "[[ 15  25  10  20]\n",
            " [ 30  33  30  36]\n",
            " [ 84  89  86 100]]\n"
          ],
          "name": "stdout"
        }
      ]
    },
    {
      "cell_type": "code",
      "metadata": {
        "ExecuteTime": {
          "end_time": "2020-06-24T19:32:44.121759Z",
          "start_time": "2020-06-24T19:32:44.119564Z"
        },
        "id": "7BrwJ_BSBq9x",
        "outputId": "03e7930c-b0cc-41d9-cb4e-b3ffb47c27ef"
      },
      "source": [
        "print(a@b)      # This can be more convenient when complex expressions are used"
      ],
      "execution_count": null,
      "outputs": [
        {
          "output_type": "stream",
          "text": [
            "[[ 15  25  10  20]\n",
            " [ 30  33  30  36]\n",
            " [ 84  89  86 100]]\n"
          ],
          "name": "stdout"
        }
      ]
    },
    {
      "cell_type": "markdown",
      "metadata": {
        "id": "ye9GH5dKBq9z"
      },
      "source": [
        "So, matrices are just two dimensional arrays with the product defined differently from the element-wise product. Note that for the matrix product to be defined, the two matrices have to have compatible shapes. So the following would produce an error:"
      ]
    },
    {
      "cell_type": "code",
      "metadata": {
        "ExecuteTime": {
          "end_time": "2020-06-24T19:32:44.125269Z",
          "start_time": "2020-06-24T19:32:44.123285Z"
        },
        "id": "RMQnMp9UBq9z"
      },
      "source": [
        "# a@a   # Try uncommenting and running to see the error message"
      ],
      "execution_count": null,
      "outputs": []
    },
    {
      "cell_type": "markdown",
      "metadata": {
        "id": "Yzt1fbOXBq91"
      },
      "source": [
        "Let's test some basic identities that should hold for an [invertible matrix](https://en.wikipedia.org/wiki/Invertible_matrix):"
      ]
    },
    {
      "cell_type": "code",
      "metadata": {
        "ExecuteTime": {
          "end_time": "2020-06-24T19:32:44.133322Z",
          "start_time": "2020-06-24T19:32:44.127034Z"
        },
        "id": "qAcU5JnCBq92",
        "outputId": "acf8b346-0b80-4156-ed29-3cc1a799b2f5"
      },
      "source": [
        "s=np.array([[1, 6, 7],\n",
        " [7, 8, 1],\n",
        " [5, 9, 8]])\n",
        "print(\"Original matrix:\", s, sep=\"\\n\")\n",
        "s_inv = np.linalg.inv(s)\n",
        "print(\"Inverted matrix:\", s_inv, sep=\"\\n\")\n",
        "print(\"Matrix product:\", s @ s_inv, sep=\"\\n\")                            # This should be pretty close to the identity matrix np.eye(3)\n",
        "print(\"Matrix product the other way:\", s_inv @ s, sep=\"\\n\")                            # Same here"
      ],
      "execution_count": null,
      "outputs": [
        {
          "output_type": "stream",
          "text": [
            "Original matrix:\n",
            "[[1 6 7]\n",
            " [7 8 1]\n",
            " [5 9 8]]\n",
            "Inverted matrix:\n",
            "[[-0.61111111 -0.16666667  0.55555556]\n",
            " [ 0.56666667  0.3        -0.53333333]\n",
            " [-0.25555556 -0.23333333  0.37777778]]\n",
            "Matrix product:\n",
            "[[  1.00000000e+00   0.00000000e+00   4.44089210e-16]\n",
            " [  7.21644966e-16   1.00000000e+00   1.11022302e-16]\n",
            " [ -4.44089210e-16  -2.22044605e-16   1.00000000e+00]]\n",
            "Matrix product the other way:\n",
            "[[  1.00000000e+00  -8.88178420e-16   0.00000000e+00]\n",
            " [  4.44089210e-16   1.00000000e+00   8.88178420e-16]\n",
            " [  0.00000000e+00  -4.44089210e-16   1.00000000e+00]]\n"
          ],
          "name": "stdout"
        }
      ]
    },
    {
      "cell_type": "markdown",
      "metadata": {
        "id": "E9Axlx7RBq95"
      },
      "source": [
        "Let's try mapping a vector with the matrix and its inverse:"
      ]
    },
    {
      "cell_type": "code",
      "metadata": {
        "ExecuteTime": {
          "end_time": "2020-06-24T19:32:44.139210Z",
          "start_time": "2020-06-24T19:32:44.134975Z"
        },
        "id": "TnTtsHdfBq95",
        "outputId": "618a3ba4-e9e3-4c21-e60a-81161862eedf"
      },
      "source": [
        "x=np.array([1,4,2])\n",
        "y = s @ x                  # Transforms x to y\n",
        "print(y)\n",
        "print(s_inv @ y)           # Transforms y back to x"
      ],
      "execution_count": null,
      "outputs": [
        {
          "output_type": "stream",
          "text": [
            "[39 41 57]\n",
            "[ 1.  4.  2.]\n"
          ],
          "name": "stdout"
        }
      ]
    },
    {
      "cell_type": "markdown",
      "metadata": {
        "id": "hFzUZQ2MBq97"
      },
      "source": [
        "#### <div class=\"alert alert-info\">Exercise 4 (matrix power)</div>\n",
        "\n",
        "Repeat the functionality of the NumPy function `numpy.linalg.matrix_power`, which raises a square matrix of shape (m,m) to the `n`th power. Here the multiplication is the matrix multiplication. Square matrix `a` raised to power `n` is therefore `a @ a @ ... @ a` where `a` is repeated `n` times. When n is zero then $a^0$ is equal to `np.eye(m)`.\n",
        "\n",
        "Write function `matrix_power` that gets as first argument a square matrix `a` and as second argument a non-negative integer `n`. The function should return the matrix `a` multiplied by itself `n-1` times.\n",
        "Use Python's `reduce` function and a generator expression.\n",
        "\n",
        "Extend the `matrix_power` function.\n",
        "For negative powers, we define $a^{-1}$ to be equal to the multiplicative inverse of `a`. You can use NumPy's function `numpy.linalg.inv` for this. And you may assume that the input matrix is invertible.\n",
        "\n",
        "<hr/>"
      ]
    },
    {
      "cell_type": "markdown",
      "metadata": {
        "id": "fzd5b7YpBq97"
      },
      "source": [
        "#### <div class=\"alert alert-info\">Exercise 5 (correlation)</div>\n",
        "\n",
        "This exercise can give two points at maximum!\n",
        "\n",
        "Load the iris dataset using the provided function `load()` in the stub solution. The four columns of the returned array correspond to\n",
        "\n",
        "* sepal length (cm)\n",
        "* sepal width (cm)\n",
        "* petal length (cm)\n",
        "* petal width (cm)\n",
        "\n",
        "Part 1. What is the Pearson correlation between the variables `sepal length` and `petal length`. Compute this using the `scipy.stats.pearsonr` function. It returns a tuple whose first element is the correlation. Write a function `lengths` that loads the data and returns the correlation.\n",
        "\n",
        "Part 2. What are the correlations between all the variables. Write a function `correlations` that returns an array of shape (4,4) containing the correlations. Use the function `np.corrcoef`. Which pair of variables is the most highly correlated?\n",
        "\n",
        "Note the input formats of both functions `pearsonr` and `corrcoef`.\n",
        "\n",
        "<hr/>"
      ]
    },
    {
      "cell_type": "markdown",
      "metadata": {
        "id": "wSkQU3SQBq98"
      },
      "source": [
        "## Solving system of linear equations"
      ]
    },
    {
      "cell_type": "markdown",
      "metadata": {
        "id": "mR2VNnKHBq98"
      },
      "source": [
        "The NumPy library has function [np.linalg.solve](https://docs.scipy.org/doc/scipy/reference/generated/scipy.linalg.solve.html) to solve systems of linear equations. The `solve` function gets as parameters the coefficient matrix and the vector containing the constant term. Below is an example of the general system of linear equations\n",
        "\n",
        "$$a_{11}x_1 + a_{12}x_2 + \\cdots a_{1m}x_m = b_1\\\\\n",
        "a_{21}x_1 + a_{22}x_2 + \\cdots a_{2m}x_m = b_2\\\\\n",
        "\\cdots\\\\\n",
        "a_{n1}x_1 + a_{n2}x_2 + \\cdots a_{nm}x_m = b_n\\\\\n",
        "$$\n",
        "\n",
        "\n",
        "and the equivalent matrix form\n",
        "\n",
        "$$A \\cdot x = b$$\n",
        "\n",
        "where $A$ has shape `(n,m)`, the unknown $x$ has shape `(m,1)`, and $b$ has shape `(n,1)`."
      ]
    },
    {
      "cell_type": "markdown",
      "metadata": {
        "id": "0_-fB2rgBq98"
      },
      "source": [
        "#### <div class=\"alert alert-info\">Exercise 6 (meeting lines)</div>\n",
        "\n",
        "Write function `meeting_lines` that gets the coefficients of two lines as parameters and returns the point where the two lines meet. The equations for the lines are $y=a_1x + b_1$ and $y=a_2x + b_2$. Use the `np.linalg.solve` function. Create a main function to test your solution.\n",
        "\n",
        "Example of usage:\n",
        "```\n",
        "x, y = meeting_lines(a1, b1, a2, b2)\n",
        "```\n",
        "<hr/>"
      ]
    },
    {
      "cell_type": "markdown",
      "metadata": {
        "id": "YgyL-trOBq99"
      },
      "source": [
        "#### <div class=\"alert alert-info\">Exercise 7 (meeting planes)</div>\n",
        "Write function `meeting_planes` that gets the coefficients of three planes as parameters and returns the point where the planes meet. The equations for the planes are:\n",
        "$z =a_1y + b_1x+ c_1$,\n",
        "$z =a_2y + b_2x+ c_2$, and\n",
        "$z =a_3y + b_3x+ c_3$.\n",
        "\n",
        "Example of usage:\n",
        "```\n",
        "x, y, z = meeting_planes(a1, b1, c1,  a2, b2, c2,  a3, b3, c3)\n",
        "```\n",
        "<hr/>"
      ]
    },
    {
      "cell_type": "markdown",
      "metadata": {
        "id": "pBi971h7Bq99"
      },
      "source": [
        "#### <div class=\"alert alert-info\">Exercise 8 (almost meeting lines)</div>\n",
        "In the earlier \"meeting lines\" exercise there is a problem if the lines don't meet at all. Extend that solution so that it tells the meeting point if it exists, and otherwise finds the point that is closest to the both lines.\n",
        "You can use the `numpy.linalg.lstsq` for this.\n",
        "\n",
        "Example of usage:\n",
        "```\n",
        "(x, y), exact = almost_meeting_lines(1, 2, -1, 0)\n",
        "print(x, y, exact)\n",
        "-1.000000 1.000000 True\n",
        "```\n",
        "\n",
        "<hr/>"
      ]
    },
    {
      "cell_type": "markdown",
      "metadata": {
        "id": "xNfitLs1Bq99"
      },
      "source": [
        "<!--NAVIGATION-->\n",
        "\n",
        "\n",
        "<a href=\"https://colab.research.google.com/github/saskeli/x/blob/master/numpy2.ipynb\"><img align=\"left\" src=\"https://colab.research.google.com/assets/colab-badge.svg\" alt=\"Open in Colab\" title=\"Open and Execute in Google Colaboratory\"></a>\n"
      ]
    }
  ]
}